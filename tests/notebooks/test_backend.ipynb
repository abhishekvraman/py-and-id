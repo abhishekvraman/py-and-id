{
 "cells": [
  {
   "cell_type": "code",
   "execution_count": 1,
   "id": "e5ced741",
   "metadata": {},
   "outputs": [],
   "source": [
    "# import os\n",
    "\n",
    "# import py_and_id\n",
    "from py_and_id import elements as elm, Segment, SegmentCircle\n",
    "from py_and_id.elements.elements import Element2Term, gap\n",
    "# from py_and_id import transform\n",
    "# from py_and_id.util import Point\n",
    "resheight = 0.35"
   ]
  },
  {
   "cell_type": "code",
   "execution_count": 2,
   "id": "750260a4",
   "metadata": {},
   "outputs": [
    {
     "data": {
      "image/png": "[encoded data removed]",
      "image/svg+xml": "<?xml version=\"1.0\" encoding=\"utf-8\" standalone=\"no\"?>\n<!DOCTYPE svg PUBLIC \"-//W3C//DTD SVG 1.1//EN\"\n  \"http://www.w3.org/Graphics/SVG/1.1/DTD/svg11.dtd\">\n<svg xmlns:xlink=\"http://www.w3.org/1999/xlink\" width=\"112.32pt\" height=\"51.732pt\" viewBox=\"0 0 112.32 51.732\" xmlns=\"http://www.w3.org/2000/svg\" version=\"1.1\">\n <metadata>\n  <rdf:RDF xmlns:dc=\"http://purl.org/dc/elements/1.1/\" xmlns:cc=\"http://creativecommons.org/ns#\" xmlns:rdf=\"http://www.w3.org/1999/02/22-rdf-syntax-ns#\">\n   <cc:Work>\n    <dc:type rdf:resource=\"http://purl.org/dc/dcmitype/StillImage\"/>\n    <dc:date>2022-10-24T12:42:24.692239</dc:date>\n    <dc:format>image/svg+xml</dc:format>\n    <dc:creator>\n     <cc:Agent>\n      <dc:title>Matplotlib v3.5.2, https://matplotlib.org/</dc:title>\n     </cc:Agent>\n    </dc:creator>\n   </cc:Work>\n  </rdf:RDF>\n </metadata>\n <defs>\n  <style type=\"text/css\">*{stroke-linejoin: round; stroke-linecap: butt}</style>\n </defs>\n <g id=\"figure_1\">\n  <g id=\"patch_1\">\n   <path d=\"M 0 51.732 \nL 112.32 51.732 \nL 112.32 0 \nL 0 0 \nz\n\" style=\"fill: #ffffff\"/>\n  </g>\n  <g id=\"axes_1\">\n   <g id=\"line2d_1\">\n    <path d=\"M 10.26 25.866 \nL 43.308 25.866 \nL 43.308 36.576 \nL 43.308 15.156 \nL 69.012 36.576 \nL 69.012 15.156 \nL 69.012 25.866 \nL 102.06 25.866 \n\" clip-path=\"url(#pcd970936f7)\" style=\"fill: none; stroke: #000000; stroke-width: 2; stroke-linecap: round\"/>\n   </g>\n   <g id=\"line2d_2\">\n    <path d=\"M 43.308 15.156 \nL 64.310486 32.658071 \n\" clip-path=\"url(#pcd970936f7)\" style=\"fill: none; stroke: #000000; stroke-width: 2; stroke-linecap: round\"/>\n   </g>\n   <g id=\"patch_2\">\n    <path d=\"M 65.877657 30.777466 \nL 69.012 36.576 \nL 62.743314 34.538677 \nz\n\" clip-path=\"url(#pcd970936f7)\"/>\n   </g>\n  </g>\n </g>\n <defs>\n  <clipPath id=\"pcd970936f7\">\n   <rect x=\"7.2\" y=\"7.2\" width=\"97.92\" height=\"37.332\"/>\n  </clipPath>\n </defs>\n</svg>\n",
      "text/plain": [
       "<__main__.CheckVal at 0x151a7cef280>"
      ]
     },
     "execution_count": 2,
     "metadata": {},
     "output_type": "execute_result"
    }
   ],
   "source": [
    "class CheckVal(Element2Term):\n",
    "    ''' CheckValve '''\n",
    "    def __init__(self, *d, **kwargs):\n",
    "        super().__init__(*d, **kwargs)\n",
    "        self.segments.append(Segment([(0, 0),\n",
    "                                      (0, -resheight),  \n",
    "                                      (0, resheight),\n",
    "                                      (resheight*2.4, -resheight),\n",
    "                                      (resheight*2.4, resheight),\n",
    "                                      (resheight*2.4, 0)\n",
    "                                      ]))\n",
    "        self.segments.append(Segment([(0, resheight),\n",
    "                                      (resheight*2.4, -resheight)], arrow='->',\n",
    "                                     arrowwidth=.16, arrowlength=.2))\n",
    "    \n",
    "a=CheckVal()\n",
    "a"
   ]
  },
  {
   "cell_type": "code",
   "execution_count": 3,
   "id": "d61a95b8",
   "metadata": {},
   "outputs": [
    {
     "data": {
      "image/png": "[encoded data removed]",
      "image/svg+xml": "<?xml version=\"1.0\" encoding=\"utf-8\" standalone=\"no\"?>\n<!DOCTYPE svg PUBLIC \"-//W3C//DTD SVG 1.1//EN\"\n  \"http://www.w3.org/Graphics/SVG/1.1/DTD/svg11.dtd\">\n<svg xmlns:xlink=\"http://www.w3.org/1999/xlink\" width=\"51.12pt\" height=\"57.24pt\" viewBox=\"0 0 51.12 57.24\" xmlns=\"http://www.w3.org/2000/svg\" version=\"1.1\">\n <metadata>\n  <rdf:RDF xmlns:dc=\"http://purl.org/dc/elements/1.1/\" xmlns:cc=\"http://creativecommons.org/ns#\" xmlns:rdf=\"http://www.w3.org/1999/02/22-rdf-syntax-ns#\">\n   <cc:Work>\n    <dc:type rdf:resource=\"http://purl.org/dc/dcmitype/StillImage\"/>\n    <dc:date>2022-10-24T12:42:25.108310</dc:date>\n    <dc:format>image/svg+xml</dc:format>\n    <dc:creator>\n     <cc:Agent>\n      <dc:title>Matplotlib v3.5.2, https://matplotlib.org/</dc:title>\n     </cc:Agent>\n    </dc:creator>\n   </cc:Work>\n  </rdf:RDF>\n </metadata>\n <defs>\n  <style type=\"text/css\">*{stroke-linejoin: round; stroke-linecap: butt}</style>\n </defs>\n <g id=\"figure_1\">\n  <g id=\"patch_1\">\n   <path d=\"M 0 57.24 \nL 51.12 57.24 \nL 51.12 0 \nL 0 0 \nz\n\" style=\"fill: #ffffff\"/>\n  </g>\n  <g id=\"axes_1\">\n   <g id=\"patch_2\">\n    <path d=\"M 25.56 40.86 \nC 29.617607 40.86 33.509572 39.247895 36.378734 36.378734 \nC 39.247895 33.509572 40.86 29.617607 40.86 25.56 \nC 40.86 21.502393 39.247895 17.610428 36.378734 14.741266 \nC 33.509572 11.872105 29.617607 10.26 25.56 10.26 \nC 21.502393 10.26 17.610428 11.872105 14.741266 14.741266 \nC 11.872105 17.610428 10.26 21.502393 10.26 25.56 \nC 10.26 29.617607 11.872105 33.509572 14.741266 36.378734 \nC 17.610428 39.247895 21.502393 40.86 25.56 40.86 \nL 25.56 40.86 \nz\n\" clip-path=\"url(#pa8edb7caff)\" style=\"fill: none; stroke: #000000; stroke-width: 2; stroke-linejoin: miter\"/>\n   </g>\n   <g id=\"line2d_1\">\n    <path d=\"M 10.26 25.56 \nL 10.26 25.56 \n\" clip-path=\"url(#pa8edb7caff)\" style=\"fill: none; stroke: #000000; stroke-width: 2; stroke-linecap: round\"/>\n   </g>\n   <g id=\"line2d_2\">\n    <path d=\"M 17.91 40.86 \nL 14.85 46.98 \nL 37.8 46.98 \nL 34.74 40.86 \n\" clip-path=\"url(#pa8edb7caff)\" style=\"fill: none; stroke: #000000; stroke-width: 2; stroke-linecap: round\"/>\n   </g>\n  </g>\n </g>\n <defs>\n  <clipPath id=\"pa8edb7caff\">\n   <rect x=\"7.2\" y=\"7.2\" width=\"36.72\" height=\"42.84\"/>\n  </clipPath>\n </defs>\n</svg>\n",
      "text/plain": [
       "<__main__.Source at 0x151a9e62ef0>"
      ]
     },
     "execution_count": 3,
     "metadata": {},
     "output_type": "execute_result"
    }
   ],
   "source": [
    "class Source(Element2Term):\n",
    "    ''' Generic source element '''\n",
    "    def __init__(self, *d, **kwargs):\n",
    "        super().__init__(*d, **kwargs)\n",
    "        self.segments.append(Segment([(0, 0), (0, 0), gap]))\n",
    "        self.segments.append(Segment([(0.25, -0.5), (0.15, -0.7), (0.9, -0.7), (0.8, -0.5)]))\n",
    "        self.segments.append(SegmentCircle((0.5, 0), 0.5))\n",
    "        \n",
    "        \n",
    "                                       \n",
    "a = Source()\n",
    "a"
   ]
  },
  {
   "cell_type": "code",
   "execution_count": 4,
   "id": "10e32cdb",
   "metadata": {},
   "outputs": [
    {
     "data": {
      "image/png": "[encoded data removed]",
      "image/svg+xml": "<?xml version=\"1.0\" encoding=\"utf-8\" standalone=\"no\"?>\n<!DOCTYPE svg PUBLIC \"-//W3C//DTD SVG 1.1//EN\"\n  \"http://www.w3.org/Graphics/SVG/1.1/DTD/svg11.dtd\">\n<svg xmlns:xlink=\"http://www.w3.org/1999/xlink\" width=\"66.42pt\" height=\"84.78pt\" viewBox=\"0 0 66.42 84.78\" xmlns=\"http://www.w3.org/2000/svg\" version=\"1.1\">\n <metadata>\n  <rdf:RDF xmlns:dc=\"http://purl.org/dc/elements/1.1/\" xmlns:cc=\"http://creativecommons.org/ns#\" xmlns:rdf=\"http://www.w3.org/1999/02/22-rdf-syntax-ns#\">\n   <cc:Work>\n    <dc:type rdf:resource=\"http://purl.org/dc/dcmitype/StillImage\"/>\n    <dc:date>2022-10-24T12:42:25.546747</dc:date>\n    <dc:format>image/svg+xml</dc:format>\n    <dc:creator>\n     <cc:Agent>\n      <dc:title>Matplotlib v3.5.2, https://matplotlib.org/</dc:title>\n     </cc:Agent>\n    </dc:creator>\n   </cc:Work>\n  </rdf:RDF>\n </metadata>\n <defs>\n  <style type=\"text/css\">*{stroke-linejoin: round; stroke-linecap: butt}</style>\n </defs>\n <g id=\"figure_1\">\n  <g id=\"patch_1\">\n   <path d=\"M 0 84.78 \nL 66.42 84.78 \nL 66.42 0 \nL 0 0 \nz\n\" style=\"fill: #ffffff\"/>\n  </g>\n  <g id=\"axes_1\">\n   <g id=\"patch_2\">\n    <path d=\"M 40.86 68.4 \nC 44.917607 68.4 48.809572 66.787895 51.678734 63.918734 \nC 54.547895 61.049572 56.16 57.157607 56.16 53.1 \nC 56.16 49.042393 54.547895 45.150428 51.678734 42.281266 \nC 48.809572 39.412105 44.917607 37.8 40.86 37.8 \nC 36.802393 37.8 32.910428 39.412105 30.041266 42.281266 \nC 27.172105 45.150428 25.56 49.042393 25.56 53.1 \nC 25.56 57.157607 27.172105 61.049572 30.041266 63.918734 \nC 32.910428 66.787895 36.802393 68.4 40.86 68.4 \nL 40.86 68.4 \nz\n\" clip-path=\"url(#p1db644e796)\" style=\"fill: none; stroke: #000000; stroke-width: 2; stroke-linejoin: miter\"/>\n   </g>\n   <g id=\"line2d_1\">\n    <path d=\"M 25.56 53.1 \nL 25.56 53.1 \n\" clip-path=\"url(#p1db644e796)\" style=\"fill: none; stroke: #000000; stroke-width: 2; stroke-linecap: round\"/>\n   </g>\n   <g id=\"line2d_2\">\n    <path d=\"M 33.21 68.4 \nL 30.15 74.52 \nL 53.1 74.52 \nL 50.04 68.4 \n\" clip-path=\"url(#p1db644e796)\" style=\"fill: none; stroke: #000000; stroke-width: 2; stroke-linecap: round\"/>\n   </g>\n   <g id=\"line2d_3\">\n    <path d=\"M 10.26 53.1 \nL 40.86 53.1 \nM 56.16 46.98 \nL 56.16 31.68 \nL 45.45 31.68 \nL 45.45 37.8 \nL 45.45 31.68 \nL 53.1 31.68 \nL 53.1 22.5 \n\" clip-path=\"url(#p1db644e796)\" style=\"fill: none; stroke: #000000; stroke-width: 2; stroke-linecap: round\"/>\n   </g>\n   <g id=\"patch_3\">\n    <path d=\"M 50.805 22.5 \nL 53.1 14.85 \nL 55.395 22.5 \nz\n\" clip-path=\"url(#p1db644e796)\"/>\n   </g>\n  </g>\n </g>\n <defs>\n  <clipPath id=\"p1db644e796\">\n   <rect x=\"7.2\" y=\"7.2\" width=\"52.02\" height=\"70.38\"/>\n  </clipPath>\n </defs>\n</svg>\n",
      "text/plain": [
       "<__main__.Pump at 0x151a9e63340>"
      ]
     },
     "execution_count": 4,
     "metadata": {},
     "output_type": "execute_result"
    }
   ],
   "source": [
    "class Pump(Source):\n",
    "    ''' Generic pump element '''\n",
    "    def __init__(self, *d, **kwargs):\n",
    "        super().__init__(*d, **kwargs)\n",
    "        self.segments.append(Segment([(-0.5, 0), (0.5, 0), gap,\n",
    "                                       (1, 0.2), (1, 0.70), (0.65, 0.7), (0.65, 0.5), (0.65, 0.7), (0.9, 0.7), (0.9, 1.25)\n",
    "                                       ], arrow=\"->\"))\n",
    "Pump()"
   ]
  },
  {
   "cell_type": "code",
   "execution_count": 5,
   "id": "dffba8d3",
   "metadata": {},
   "outputs": [],
   "source": [
    "import os\n",
    "\n",
    "import py_and_id\n",
    "from py_and_id import elements as elm\n",
    "from py_and_id import logic\n",
    "from py_and_id import transform\n",
    "from py_and_id.util import Point"
   ]
  },
  {
   "cell_type": "code",
   "execution_count": 6,
   "id": "a929dfbc",
   "metadata": {},
   "outputs": [
    {
     "data": {
      "image/png": "[encoded data removed]",
      "image/svg+xml": "<?xml version=\"1.0\" encoding=\"utf-8\" standalone=\"no\"?>\n<!DOCTYPE svg PUBLIC \"-//W3C//DTD SVG 1.1//EN\"\n  \"http://www.w3.org/Graphics/SVG/1.1/DTD/svg11.dtd\">\n<svg xmlns:xlink=\"http://www.w3.org/1999/xlink\" width=\"458.86656pt\" height=\"103.446pt\" viewBox=\"0 0 458.86656 103.446\" xmlns=\"http://www.w3.org/2000/svg\" version=\"1.1\">\n <metadata>\n  <rdf:RDF xmlns:dc=\"http://purl.org/dc/elements/1.1/\" xmlns:cc=\"http://creativecommons.org/ns#\" xmlns:rdf=\"http://www.w3.org/1999/02/22-rdf-syntax-ns#\">\n   <cc:Work>\n    <dc:type rdf:resource=\"http://purl.org/dc/dcmitype/StillImage\"/>\n    <dc:date>2022-10-24T12:42:26.387730</dc:date>\n    <dc:format>image/svg+xml</dc:format>\n    <dc:creator>\n     <cc:Agent>\n      <dc:title>Matplotlib v3.5.2, https://matplotlib.org/</dc:title>\n     </cc:Agent>\n    </dc:creator>\n   </cc:Work>\n  </rdf:RDF>\n </metadata>\n <defs>\n  <style type=\"text/css\">*{stroke-linejoin: round; stroke-linecap: butt}</style>\n </defs>\n <g id=\"figure_1\">\n  <g id=\"patch_1\">\n   <path d=\"M 0 103.446 \nL 458.86656 103.446 \nL 458.86656 0 \nL 0 0 \nz\n\" style=\"fill: #ffffff\"/>\n  </g>\n  <g id=\"axes_1\">\n   <g id=\"patch_2\">\n    <path d=\"M 135.954751 87.066 \nC 140.012358 87.066 143.904323 85.453895 146.773484 82.584734 \nC 149.642646 79.715572 151.254751 75.823607 151.254751 71.766 \nC 151.254751 67.708393 149.642646 63.816428 146.773484 60.947266 \nC 143.904323 58.078105 140.012358 56.466 135.954751 56.466 \nC 131.897143 56.466 128.005178 58.078105 125.136017 60.947266 \nC 122.266855 63.816428 120.654751 67.708393 120.654751 71.766 \nC 120.654751 75.823607 122.266855 79.715572 125.136017 82.584734 \nC 128.005178 85.453895 131.897143 87.066 135.954751 87.066 \nL 135.954751 87.066 \nz\n\" clip-path=\"url(#p0cd0d9260e)\" style=\"fill: none; stroke: #000000; stroke-width: 2; stroke-linejoin: miter\"/>\n   </g>\n   <g id=\"patch_3\">\n    <path d=\"M 230.433031 76.356 \nC 234.490638 76.356 238.382603 74.743895 241.251764 71.874734 \nC 244.120926 69.005572 245.733031 65.113607 245.733031 61.056 \nC 245.733031 56.998393 244.120926 53.106428 241.251764 50.237266 \nC 238.382603 47.368105 234.490638 45.756 230.433031 45.756 \nC 226.375423 45.756 222.483459 47.368105 219.614297 50.237266 \nC 216.745135 53.106428 215.133031 56.998393 215.133031 61.056 \nC 215.133031 65.113607 216.745135 69.005572 219.614297 71.874734 \nC 222.483459 74.743895 226.375423 76.356 230.433031 76.356 \nL 230.433031 76.356 \nz\n\" clip-path=\"url(#p0cd0d9260e)\" style=\"fill: none; stroke: #000000; stroke-width: 2; stroke-linejoin: miter\"/>\n   </g>\n   <g id=\"line2d_1\">\n    <path d=\"M 10.26 71.766 \nL 53.406 71.766 \nM 53.406 64.116 \nL 53.406 79.416 \nM 58.914 64.116 \nL 58.914 79.416 \nM 58.914 71.766 \nL 102.06 71.766 \n\" clip-path=\"url(#p0cd0d9260e)\" style=\"fill: none; stroke: #000000; stroke-width: 2; stroke-linecap: round\"/>\n   </g>\n   <g id=\"line2d_2\">\n    <path d=\"M 102.06 71.766 \nL 120.654751 71.766 \nM 128.304751 87.066 \nL 125.244751 93.186 \nL 148.194751 93.186 \nL 145.134751 87.066 \nM 174.204751 61.056 \nL 192.799501 61.056 \n\" clip-path=\"url(#p0cd0d9260e)\" style=\"fill: none; stroke: #000000; stroke-width: 2; stroke-linecap: round\"/>\n   </g>\n   <g id=\"line2d_3\">\n    <path d=\"M 105.354751 71.766 \nL 135.954751 71.766 \nM 135.954751 56.466 \nL 154.314751 56.466 \nL 154.314751 65.646 \nL 151.254751 65.646 \nL 154.314751 65.646 \nL 154.314751 61.056 \nL 166.554751 61.056 \n\" clip-path=\"url(#p0cd0d9260e)\" style=\"fill: none; stroke: #000000; stroke-width: 2; stroke-linecap: round\"/>\n   </g>\n   <g id=\"patch_4\">\n    <path d=\"M 166.554751 58.761 \nL 174.204751 61.056 \nL 166.554751 63.351 \nz\n\" clip-path=\"url(#p0cd0d9260e)\"/>\n   </g>\n   <g id=\"line2d_4\">\n    <path d=\"M 192.799501 61.056 \nL 215.133031 61.056 \nM 222.783031 76.356 \nL 219.723031 82.476 \nL 242.673031 82.476 \nL 239.613031 76.356 \nM 242.673031 22.806 \nL 265.00656 22.806 \n\" clip-path=\"url(#p0cd0d9260e)\" style=\"fill: none; stroke: #000000; stroke-width: 2; stroke-linecap: round\"/>\n   </g>\n   <g id=\"line2d_5\">\n    <path d=\"M 199.833031 61.056 \nL 230.433031 61.056 \nM 245.733031 54.936 \nL 245.733031 39.636 \nL 235.023031 39.636 \nL 235.023031 45.756 \nL 235.023031 39.636 \nL 242.673031 39.636 \nL 242.673031 30.456 \n\" clip-path=\"url(#p0cd0d9260e)\" style=\"fill: none; stroke: #000000; stroke-width: 2; stroke-linecap: round\"/>\n   </g>\n   <g id=\"patch_5\">\n    <path d=\"M 240.378031 30.456 \nL 242.673031 22.806 \nL 244.968031 30.456 \nz\n\" clip-path=\"url(#p0cd0d9260e)\"/>\n   </g>\n   <g id=\"line2d_6\">\n    <path d=\"M 265.00656 22.806 \nL 308.15256 22.806 \nM 308.15256 15.156 \nL 308.15256 30.456 \nM 313.66056 15.156 \nL 313.66056 30.456 \nM 313.66056 22.806 \nL 356.80656 22.806 \n\" clip-path=\"url(#p0cd0d9260e)\" style=\"fill: none; stroke: #000000; stroke-width: 2; stroke-linecap: round\"/>\n   </g>\n   <g id=\"line2d_7\">\n    <path d=\"M 356.80656 22.806 \nL 393.52656 22.806 \nL 393.52656 30.456 \nL 393.52656 15.156 \nL 411.88656 30.456 \nL 411.88656 15.156 \nL 411.88656 22.806 \nL 448.60656 22.806 \n\" clip-path=\"url(#p0cd0d9260e)\" style=\"fill: none; stroke: #000000; stroke-width: 2; stroke-linecap: round\"/>\n   </g>\n   <g id=\"line2d_8\">\n    <path d=\"M 393.52656 15.156 \nL 407.185046 26.538071 \n\" clip-path=\"url(#p0cd0d9260e)\" style=\"fill: none; stroke: #000000; stroke-width: 2; stroke-linecap: round\"/>\n   </g>\n   <g id=\"patch_6\">\n    <path d=\"M 408.752217 24.657466 \nL 411.88656 30.456 \nL 405.617875 28.418677 \nz\n\" clip-path=\"url(#p0cd0d9260e)\"/>\n   </g>\n  </g>\n </g>\n <defs>\n  <clipPath id=\"p0cd0d9260e\">\n   <rect x=\"7.2\" y=\"7.2\" width=\"444.46656\" height=\"89.046\"/>\n  </clipPath>\n </defs>\n</svg>\n",
      "text/plain": [
       "<py_and_id.py_and_id.Drawing at 0x151a9efd750>"
      ]
     },
     "execution_count": 6,
     "metadata": {},
     "output_type": "execute_result"
    }
   ],
   "source": [
    "# add_elements function\n",
    "d = py_and_id.Drawing()\n",
    "d.add_elements(elm.Flange(),\n",
    "    elm.Pump(),elm.PumpV(),\n",
    "    elm.Flange(),\n",
    "    elm.CheckValve())\n",
    "d"
   ]
  },
  {
   "cell_type": "code",
   "execution_count": 7,
   "id": "341e551e",
   "metadata": {},
   "outputs": [
    {
     "data": {
      "text/plain": [
       "Point(1,1)"
      ]
     },
     "execution_count": 7,
     "metadata": {},
     "output_type": "execute_result"
    }
   ],
   "source": [
    "Point((1, 1))"
   ]
  },
  {
   "cell_type": "code",
   "execution_count": 8,
   "id": "fb5dca74",
   "metadata": {},
   "outputs": [
    {
     "data": {
      "text/plain": [
       "Point(3,3)"
      ]
     },
     "execution_count": 8,
     "metadata": {},
     "output_type": "execute_result"
    }
   ],
   "source": [
    "p1 = Point((1, 1))\n",
    "p2 = Point((2, 2))\n",
    "p3 = p1 + p2\n",
    "assert p3 == Point((3, 3))\n",
    "p3"
   ]
  },
  {
   "cell_type": "code",
   "execution_count": 9,
   "id": "fbf88482",
   "metadata": {},
   "outputs": [
    {
     "data": {
      "text/plain": [
       "Point(1,1)"
      ]
     },
     "execution_count": 9,
     "metadata": {},
     "output_type": "execute_result"
    }
   ],
   "source": [
    "p4 = p2-p1\n",
    "assert p4 == Point((1, 1))\n",
    "assert p2-1 == Point((1, 1))\n",
    "assert 1 - p2 == Point((-1, -1))\n",
    "p4"
   ]
  },
  {
   "cell_type": "code",
   "execution_count": 10,
   "id": "f8a831c7",
   "metadata": {},
   "outputs": [
    {
     "data": {
      "text/plain": [
       "Transform: xy=Point(0,0); theta=0; scale=1; lshift=Point(0,0)"
      ]
     },
     "execution_count": 10,
     "metadata": {},
     "output_type": "execute_result"
    }
   ],
   "source": [
    "t = transform.Transform(0, (0,0))\n",
    "t"
   ]
  },
  {
   "cell_type": "code",
   "execution_count": 11,
   "id": "db939804",
   "metadata": {},
   "outputs": [],
   "source": [
    "assert t.transform((1, 1)) == Point((1, 1))"
   ]
  },
  {
   "cell_type": "code",
   "execution_count": 12,
   "id": "b4d8f6aa",
   "metadata": {},
   "outputs": [],
   "source": [
    "t = transform.Transform(0, (1, 1))\n",
    "assert t.transform((1, 1)) == Point((2, 2))"
   ]
  },
  {
   "cell_type": "code",
   "execution_count": null,
   "id": "01752781",
   "metadata": {},
   "outputs": [],
   "source": []
  },
  {
   "cell_type": "code",
   "execution_count": 13,
   "id": "269ecaaa",
   "metadata": {},
   "outputs": [
    {
     "ename": "AttributeError",
     "evalue": "Element `Capacitor` not found.",
     "output_type": "error",
     "traceback": [
      "\u001b[1;31m---------------------------------------------------------------------------\u001b[0m",
      "\u001b[1;31mAttributeError\u001b[0m                            Traceback (most recent call last)",
      "\u001b[1;32m~\\AppData\\Local\\Temp/ipykernel_1900/3533543219.py\u001b[0m in \u001b[0;36m<module>\u001b[1;34m\u001b[0m\n\u001b[0;32m      3\u001b[0m d.add_elements(\n\u001b[0;32m      4\u001b[0m     \u001b[0melm\u001b[0m\u001b[1;33m.\u001b[0m\u001b[0mResistor\u001b[0m\u001b[1;33m(\u001b[0m\u001b[1;33m)\u001b[0m\u001b[1;33m,\u001b[0m\u001b[1;33m\u001b[0m\u001b[1;33m\u001b[0m\u001b[0m\n\u001b[1;32m----> 5\u001b[1;33m     \u001b[0melm\u001b[0m\u001b[1;33m.\u001b[0m\u001b[0mCapacitor\u001b[0m\u001b[1;33m(\u001b[0m\u001b[1;33m)\u001b[0m\u001b[1;33m,\u001b[0m\u001b[1;33m\u001b[0m\u001b[1;33m\u001b[0m\u001b[0m\n\u001b[0m\u001b[0;32m      6\u001b[0m     elm.CheckValve())\n\u001b[0;32m      7\u001b[0m \u001b[0md\u001b[0m\u001b[1;33m\u001b[0m\u001b[1;33m\u001b[0m\u001b[0m\n",
      "\u001b[1;32m~\\Documents\\Codes\\py-and-id\\src\\py_and_id\\elements\\__init__.py\u001b[0m in \u001b[0;36m__getattr__\u001b[1;34m(name)\u001b[0m\n\u001b[0;32m     41\u001b[0m     \u001b[0me\u001b[0m \u001b[1;33m=\u001b[0m \u001b[0mgetattr\u001b[0m\u001b[1;33m(\u001b[0m\u001b[0mlegacy\u001b[0m\u001b[1;33m,\u001b[0m \u001b[0mname\u001b[0m\u001b[1;33m,\u001b[0m \u001b[1;32mNone\u001b[0m\u001b[1;33m)\u001b[0m\u001b[1;33m\u001b[0m\u001b[1;33m\u001b[0m\u001b[0m\n\u001b[0;32m     42\u001b[0m     \u001b[1;32mif\u001b[0m \u001b[0me\u001b[0m \u001b[1;32mis\u001b[0m \u001b[1;32mNone\u001b[0m\u001b[1;33m:\u001b[0m\u001b[1;33m\u001b[0m\u001b[1;33m\u001b[0m\u001b[0m\n\u001b[1;32m---> 43\u001b[1;33m         \u001b[1;32mraise\u001b[0m \u001b[0mAttributeError\u001b[0m\u001b[1;33m(\u001b[0m\u001b[1;34m'Element `{}` not found.'\u001b[0m\u001b[1;33m.\u001b[0m\u001b[0mformat\u001b[0m\u001b[1;33m(\u001b[0m\u001b[0mname\u001b[0m\u001b[1;33m)\u001b[0m\u001b[1;33m)\u001b[0m\u001b[1;33m\u001b[0m\u001b[1;33m\u001b[0m\u001b[0m\n\u001b[0m\u001b[0;32m     44\u001b[0m     \u001b[0mwarnings\u001b[0m\u001b[1;33m.\u001b[0m\u001b[0mwarn\u001b[0m\u001b[1;33m(\u001b[0m\u001b[1;34m'Dictionary-based elements are deprecated. Update to class-based elements or import from py_and_id.elements.legacy.'\u001b[0m\u001b[1;33m,\u001b[0m \u001b[0mDeprecationWarning\u001b[0m\u001b[1;33m)\u001b[0m\u001b[1;33m\u001b[0m\u001b[1;33m\u001b[0m\u001b[0m\n\u001b[0;32m     45\u001b[0m     \u001b[1;32mreturn\u001b[0m \u001b[0me\u001b[0m\u001b[1;33m\u001b[0m\u001b[1;33m\u001b[0m\u001b[0m\n",
      "\u001b[1;31mAttributeError\u001b[0m: Element `Capacitor` not found."
     ]
    }
   ],
   "source": [
    "# add_elements function\n",
    "d = py_and_id.Drawing()\n",
    "d.add_elements(\n",
    "    elm.Resistor(),\n",
    "    elm.Capacitor(),\n",
    "    elm.CheckValve())\n",
    "d"
   ]
  },
  {
   "cell_type": "code",
   "execution_count": null,
   "id": "e3d4a871-cdd4-42da-8d84-18b2caa8f52f",
   "metadata": {},
   "outputs": [],
   "source": [
    "# Context Manager - file save, should still draw in Jupyter\n",
    "try:\n",
    "    os.remove('savetest.png')\n",
    "except FileNotFoundError:\n",
    "    pass\n",
    "\n",
    "with py_and_id.Drawing(file='savetest.png') as d:\n",
    "    d += elm.Resistor()\n",
    "    d += elm.Capacitor()\n",
    "    d += elm.Diode()\n",
    "    \n",
    "assert os.path.exists('savetest.png')"
   ]
  },
  {
   "cell_type": "code",
   "execution_count": null,
   "id": "244dfadd-fed6-4e88-83f4-6f4590e84345",
   "metadata": {},
   "outputs": [],
   "source": []
  },
  {
   "cell_type": "code",
   "execution_count": null,
   "id": "11c0166f",
   "metadata": {},
   "outputs": [],
   "source": [
    "# Matplotlib backend\n",
    "d.draw(backend='matplotlib')\n",
    "d.get_imagedata('svg')"
   ]
  },
  {
   "cell_type": "code",
   "execution_count": null,
   "id": "cfca9e73",
   "metadata": {},
   "outputs": [],
   "source": [
    "# SVG backend\n",
    "d.draw(backend='svg')\n",
    "d.get_imagedata('svg')"
   ]
  },
  {
   "cell_type": "code",
   "execution_count": null,
   "id": "4cdf72b5",
   "metadata": {},
   "outputs": [],
   "source": [
    "py_and_id.svgconfig.text = 'path'  # use ziamath"
   ]
  },
  {
   "cell_type": "code",
   "execution_count": null,
   "id": "96c01c22",
   "metadata": {},
   "outputs": [],
   "source": [
    "d = py_and_id.Drawing(font='serif', fontsize=20)\n",
    "d += elm.Resistor().label('Hello')\n",
    "d.draw(backend='matplotlib')"
   ]
  },
  {
   "cell_type": "code",
   "execution_count": null,
   "id": "5764c299",
   "metadata": {},
   "outputs": [],
   "source": [
    "d = py_and_id.Drawing(font='serif', fontsize=20)\n",
    "d += elm.Resistor().label('Hello')\n",
    "d.draw(backend='svg')"
   ]
  },
  {
   "cell_type": "code",
   "execution_count": null,
   "id": "4fddb4ef",
   "metadata": {},
   "outputs": [],
   "source": [
    "d.save('savetest.png')"
   ]
  },
  {
   "cell_type": "code",
   "execution_count": null,
   "id": "2869515f",
   "metadata": {},
   "outputs": [],
   "source": []
  },
  {
   "cell_type": "code",
   "execution_count": null,
   "id": "e44fce8c",
   "metadata": {},
   "outputs": [],
   "source": [
    "py_and_id.svgconfig.text = 'path'\n",
    "d = py_and_id.Drawing(font='serif', fontsize=20)\n",
    "d += elm.Resistor().label(r'$x^2$', valign='bottom')\n",
    "d.draw(backend='svg')\n",
    "assert '<symbol' in d.get_imagedata('svg').decode()"
   ]
  },
  {
   "cell_type": "code",
   "execution_count": null,
   "id": "ad6bdb8c",
   "metadata": {},
   "outputs": [],
   "source": [
    "py_and_id.svgconfig.svg2 = False   # use ziamath with SVG1.x\n",
    "d = py_and_id.Drawing(font='serif', fontsize=20)\n",
    "d += elm.Resistor().label(r'$x^2$', valign='bottom')\n",
    "d.draw(backend='svg')\n",
    "d.get_imagedata('svg').decode()\n",
    "assert '<symbol' not in d.get_imagedata('svg').decode()"
   ]
  },
  {
   "cell_type": "code",
   "execution_count": null,
   "id": "4f7a20a8",
   "metadata": {},
   "outputs": [],
   "source": [
    "py_and_id.svgconfig.text = 'text'   # use <text>\n",
    "d = py_and_id.Drawing(font='serif', fontsize=20)\n",
    "d += elm.Resistor().label(r'$x^2$', valign='bottom')\n",
    "d.draw(backend='svg')\n",
    "assert '<text' in d.get_imagedata('svg').decode()"
   ]
  },
  {
   "cell_type": "code",
   "execution_count": null,
   "id": "26e1c624-365d-45e4-830b-6f9e87f81e1e",
   "metadata": {},
   "outputs": [],
   "source": []
  },
  {
   "cell_type": "code",
   "execution_count": null,
   "id": "28267d40",
   "metadata": {},
   "outputs": [],
   "source": [
    "py_and_id.svgconfig.text = 'path'\n",
    "py_and_id.svgconfig.svg2 = True"
   ]
  },
  {
   "cell_type": "code",
   "execution_count": null,
   "id": "874e5110",
   "metadata": {},
   "outputs": [],
   "source": []
  },
  {
   "cell_type": "code",
   "execution_count": null,
   "id": "4d6c2d77",
   "metadata": {},
   "outputs": [],
   "source": [
    "# Draw on matplotlib axis, or specify existing axis\n",
    "import matplotlib.pyplot as plt"
   ]
  },
  {
   "cell_type": "code",
   "execution_count": null,
   "id": "782d3764",
   "metadata": {},
   "outputs": [],
   "source": [
    "py_and_id.use('matplotlib')\n",
    "d = py_and_id.Drawing()\n",
    "d.add(elm.Resistor)\n",
    "schemfig = d.draw()\n",
    "schemfig.ax.axvline(.5, color='purple', ls='--')\n",
    "schemfig.ax.axvline(2.5, color='orange', ls='-', lw=3);\n",
    "display(schemfig)"
   ]
  },
  {
   "cell_type": "code",
   "execution_count": null,
   "id": "842379a0",
   "metadata": {},
   "outputs": [],
   "source": [
    "fig, ax = plt.subplots()\n",
    "ax.set_aspect('equal')\n",
    "d = py_and_id.Drawing()\n",
    "d += elm.Inductor()\n",
    "d.draw(ax=ax)\n",
    "ax.axvline(0, ls='--', color='red');"
   ]
  },
  {
   "cell_type": "code",
   "execution_count": null,
   "id": "f9ca19c3",
   "metadata": {},
   "outputs": [],
   "source": [
    "py_and_id.theme('dark')\n",
    "d = py_and_id.Drawing()\n",
    "d += elm.FuseUS()\n",
    "d.draw()"
   ]
  },
  {
   "cell_type": "code",
   "execution_count": null,
   "id": "2ea55813",
   "metadata": {},
   "outputs": [],
   "source": [
    "d.save('testMPL.png')"
   ]
  },
  {
   "cell_type": "code",
   "execution_count": null,
   "id": "828a22f1",
   "metadata": {},
   "outputs": [],
   "source": []
  },
  {
   "cell_type": "code",
   "execution_count": null,
   "id": "37c7b3d0",
   "metadata": {},
   "outputs": [],
   "source": []
  },
  {
   "cell_type": "code",
   "execution_count": null,
   "id": "92a13128",
   "metadata": {},
   "outputs": [],
   "source": [
    "# Capstyle names are different in SVG vs Matplotlib\n",
    "# projecting == butt\n",
    "d = py_and_id.Drawing()\n",
    "d += elm.Resistor(capstyle='butt')\n",
    "d += elm.Resistor(capstyle='projecting')\n",
    "d.draw()"
   ]
  },
  {
   "cell_type": "code",
   "execution_count": null,
   "id": "1735cb1a",
   "metadata": {},
   "outputs": [],
   "source": [
    "d = py_and_id.Drawing()\n",
    "d += elm.Resistor(capstyle='butt')\n",
    "d += elm.Resistor(capstyle='projecting')\n",
    "d.draw(backend='svg')"
   ]
  },
  {
   "cell_type": "code",
   "execution_count": null,
   "id": "0ef22aaa",
   "metadata": {},
   "outputs": [],
   "source": []
  },
  {
   "cell_type": "code",
   "execution_count": null,
   "id": "b0d0afef",
   "metadata": {},
   "outputs": [],
   "source": [
    "py_and_id.theme('default')\n",
    "d = py_and_id.Drawing()\n",
    "d += elm.Bjt()\n",
    "d.draw(showframe=True)"
   ]
  },
  {
   "cell_type": "code",
   "execution_count": null,
   "id": "4c03a06a",
   "metadata": {},
   "outputs": [],
   "source": [
    "d = py_and_id.Drawing()\n",
    "d += elm.Bjt()\n",
    "d.draw(backend='svg', showframe=True)"
   ]
  },
  {
   "cell_type": "code",
   "execution_count": null,
   "id": "f2d3b961",
   "metadata": {},
   "outputs": [],
   "source": [
    "# Test some mathtext in svg backend\n",
    "py_and_id.use('svg')\n",
    "d = py_and_id.Drawing(font='sans')\n",
    "d += elm.Resistor().label('$R_{11}$')\n",
    "d += elm.Resistor().label('$R^{22}$')\n",
    "d += elm.Resistor().label(r'$\\theta$')\n",
    "d += elm.Resistor().label('$\\overline{Q_1}$')\n",
    "d += elm.Resistor().label('$R_1$')\n",
    "d += elm.Resistor().label('$\\sqrt{x}$')\n",
    "d.here = (0, -2)\n",
    "d += elm.Resistor().label('Ω')\n",
    "d += elm.Resistor().label('∠')\n",
    "d += elm.Resistor().label('10%')\n",
    "d += elm.Resistor().label('$R^2$')\n",
    "d += elm.Resistor().label('$R_2$')\n",
    "d.draw()"
   ]
  },
  {
   "cell_type": "code",
   "execution_count": null,
   "id": "37321cf2",
   "metadata": {},
   "outputs": [],
   "source": [
    "# Test some mathtext in svg backend\n",
    "py_and_id.use('svg')\n",
    "d = py_and_id.Drawing()\n",
    "d += elm.Dot().label('R1', rotate=45)\n",
    "d += elm.Dot().at((1, 0)).label('R1', rotate=45, halign='center')\n",
    "d += elm.Dot().at((2, 0)).label('R1', rotate=45, halign='right')\n",
    "d += elm.Dot().at((0, 1)).label('R1', rotate=45, valign='top')\n",
    "d += elm.Dot().at((1, 1)).label('R1', rotate=45, valign='bottom')\n",
    "d += elm.Dot().at((2, 1)).label('R1', rotate=45, valign='center')\n",
    "d.draw()"
   ]
  },
  {
   "cell_type": "code",
   "execution_count": null,
   "id": "64ddfde5",
   "metadata": {},
   "outputs": [],
   "source": [
    "from py_and_id.backends import svgtext\n",
    "from IPython.display import SVG\n",
    "from xml.etree import ElementTree as ET\n",
    "# These should appear similar to\n",
    "# https://matplotlib.org/3.1.1/gallery/text_labels_and_annotations/demo_text_rotation_mode.html"
   ]
  },
  {
   "cell_type": "code",
   "execution_count": null,
   "id": "f18935df",
   "metadata": {},
   "outputs": [],
   "source": [
    "svghead = '<svg xmlns=\"http://www.w3.org/2000/svg\" xml:lang=\"en\" height=\"150pt\" width=\"150pt\">{}</svg>'\n",
    "s = svgtext.text_tosvg('ABC', 50, 50, halign='left', rotation=45, testmode=True)\n",
    "SVG(svghead.format(ET.tostring(s, encoding='unicode')))"
   ]
  },
  {
   "cell_type": "code",
   "execution_count": null,
   "id": "d6b57644",
   "metadata": {},
   "outputs": [],
   "source": [
    "# \"anchor\" rotation mode\n",
    "s = ET.tostring(svgtext.text_tosvg('ABC', 30, 30, rotation=30,\n",
    "                       halign='left', valign='top', \n",
    "                       testmode=True),\n",
    "                encoding='unicode')\n",
    "s += ET.tostring(svgtext.text_tosvg('ABC', 90, 30, rotation=30,\n",
    "                       halign='center', valign='top', \n",
    "                       testmode=True),\n",
    "                encoding='unicode')\n",
    "s += ET.tostring(svgtext.text_tosvg('ABC', 150, 30, rotation=30,\n",
    "                       halign='right', valign='top', \n",
    "                       testmode=True),\n",
    "                encoding='unicode')\n",
    "s += ET.tostring(svgtext.text_tosvg('ABC', 30, 80, rotation=30,\n",
    "                       halign='left', valign='center', \n",
    "                       testmode=True),\n",
    "                encoding='unicode')\n",
    "s += ET.tostring(svgtext.text_tosvg('ABC', 90, 80, rotation=30,\n",
    "                       halign='center', valign='center', \n",
    "                       testmode=True),\n",
    "                encoding='unicode')\n",
    "s += ET.tostring(svgtext.text_tosvg('ABC', 150, 80, rotation=30,\n",
    "                       halign='right', valign='center', \n",
    "                       testmode=True),\n",
    "                encoding='unicode')\n",
    "s += ET.tostring(svgtext.text_tosvg('ABC', 30, 130, rotation=30,\n",
    "                       halign='left', valign='bottom', \n",
    "                       testmode=True),\n",
    "                encoding='unicode')\n",
    "s += ET.tostring(svgtext.text_tosvg('ABC', 90, 130, rotation=30,\n",
    "                       halign='center', valign='bottom', \n",
    "                       testmode=True),\n",
    "                encoding='unicode')\n",
    "s += ET.tostring(svgtext.text_tosvg('ABC', 150, 130, rotation=30,\n",
    "                       halign='right', valign='bottom', \n",
    "                       testmode=True),\n",
    "                encoding='unicode')\n",
    "\n",
    "SVG(svghead.format(s))"
   ]
  },
  {
   "cell_type": "code",
   "execution_count": null,
   "id": "619818c5",
   "metadata": {},
   "outputs": [],
   "source": [
    "# \"default\" rotation mode\n",
    "s = ET.tostring(svgtext.text_tosvg('ABC', 30, 30, rotation=30,\n",
    "                       halign='left', valign='top', \n",
    "                       rotation_mode='default', testmode=True),\n",
    "                encoding='unicode')\n",
    "s += ET.tostring(svgtext.text_tosvg('ABC', 90, 30, rotation=30,\n",
    "                       halign='center', valign='top', \n",
    "                       rotation_mode='default', testmode=True),\n",
    "                encoding='unicode')\n",
    "s += ET.tostring(svgtext.text_tosvg('ABC', 150, 30, rotation=30,\n",
    "                       halign='right', valign='top', \n",
    "                       rotation_mode='default', testmode=True),\n",
    "                encoding='unicode')\n",
    "s += ET.tostring(svgtext.text_tosvg('ABC', 30, 80, rotation=30,\n",
    "                       halign='left', valign='center', \n",
    "                       rotation_mode='default', testmode=True),\n",
    "                encoding='unicode')\n",
    "s += ET.tostring(svgtext.text_tosvg('ABC', 90, 80, rotation=30,\n",
    "                       halign='center', valign='center', \n",
    "                       rotation_mode='default', testmode=True),\n",
    "                encoding='unicode')\n",
    "s += ET.tostring(svgtext.text_tosvg('ABC', 150, 80, rotation=30,\n",
    "                       halign='right', valign='center', \n",
    "                       rotation_mode='default', testmode=True),\n",
    "                encoding='unicode')\n",
    "s += ET.tostring(svgtext.text_tosvg('ABC', 30, 130, rotation=30,\n",
    "                       halign='left', valign='bottom', \n",
    "                       rotation_mode='default', testmode=True),\n",
    "                encoding='unicode')\n",
    "s += ET.tostring(svgtext.text_tosvg('ABC', 90, 130, rotation=30,\n",
    "                       halign='center', valign='bottom', \n",
    "                       rotation_mode='default', testmode=True),\n",
    "                encoding='unicode')\n",
    "s += ET.tostring(svgtext.text_tosvg('ABC', 150, 130, rotation=30,\n",
    "                       halign='right', valign='bottom', \n",
    "                       rotation_mode='default', testmode=True),\n",
    "                encoding='unicode')\n",
    "\n",
    "SVG(svghead.format(s))"
   ]
  },
  {
   "cell_type": "code",
   "execution_count": null,
   "id": "a25ad980",
   "metadata": {},
   "outputs": [],
   "source": [
    "svghead = '<svg xmlns=\"http://www.w3.org/2000/svg\" xml:lang=\"en\" height=\"150pt\" width=\"150pt\">{}</svg>'\n",
    "s = svgtext.text_tosvg('$A^x$ + $B_1$', 50, 50, halign='left', rotation=145, testmode=True)\n",
    "SVG(svghead.format(ET.tostring(s)))"
   ]
  },
  {
   "cell_type": "code",
   "execution_count": null,
   "id": "154b6795",
   "metadata": {},
   "outputs": [],
   "source": [
    "svghead = '<svg xmlns=\"http://www.w3.org/2000/svg\" xml:lang=\"en\" height=\"150pt\" width=\"150pt\">{}</svg>'\n",
    "s = svgtext.text_tosvg('$A^{xy}$ + $B_{11}$', 50, 50, halign='left', size=22, rotation=-45, testmode=True)\n",
    "SVG(svghead.format(ET.tostring(s)))"
   ]
  },
  {
   "cell_type": "code",
   "execution_count": null,
   "id": "7097ea9d",
   "metadata": {},
   "outputs": [],
   "source": []
  },
  {
   "cell_type": "code",
   "execution_count": null,
   "id": "4994cf13",
   "metadata": {},
   "outputs": [],
   "source": [
    "#py_and_id.settextmode('text')\n",
    "py_and_id.svgconfig.text = 'text'"
   ]
  },
  {
   "cell_type": "code",
   "execution_count": null,
   "id": "60ae408c",
   "metadata": {},
   "outputs": [],
   "source": [
    "# \"default\" rotation mode\n",
    "s = ET.tostring(svgtext.text_tosvg('ABC', 30, 30, rotation=30,\n",
    "                       halign='left', valign='top', \n",
    "                       rotation_mode='default', testmode=True),\n",
    "                encoding='unicode')\n",
    "s += ET.tostring(svgtext.text_tosvg('ABC', 90, 30, rotation=30,\n",
    "                       halign='center', valign='top', \n",
    "                       rotation_mode='default', testmode=True),\n",
    "                encoding='unicode')\n",
    "s += ET.tostring(svgtext.text_tosvg('ABC', 150, 30, rotation=30,\n",
    "                       halign='right', valign='top', \n",
    "                       rotation_mode='default', testmode=True),\n",
    "                encoding='unicode')\n",
    "s += ET.tostring(svgtext.text_tosvg('ABC', 30, 80, rotation=30,\n",
    "                       halign='left', valign='center', \n",
    "                       rotation_mode='default', testmode=True),\n",
    "                encoding='unicode')\n",
    "s += ET.tostring(svgtext.text_tosvg('ABC', 90, 80, rotation=30,\n",
    "                       halign='center', valign='center', \n",
    "                       rotation_mode='default', testmode=True),\n",
    "                encoding='unicode')\n",
    "s += ET.tostring(svgtext.text_tosvg('ABC', 150, 80, rotation=30,\n",
    "                       halign='right', valign='center', \n",
    "                       rotation_mode='default', testmode=True),\n",
    "                encoding='unicode')\n",
    "s += ET.tostring(svgtext.text_tosvg('ABC', 30, 130, rotation=30,\n",
    "                       halign='left', valign='bottom', \n",
    "                       rotation_mode='default', testmode=True),\n",
    "                encoding='unicode')\n",
    "s += ET.tostring(svgtext.text_tosvg('ABC', 90, 130, rotation=30,\n",
    "                       halign='center', valign='bottom', \n",
    "                       rotation_mode='default', testmode=True),\n",
    "                encoding='unicode')\n",
    "s += ET.tostring(svgtext.text_tosvg('ABC', 150, 130, rotation=30,\n",
    "                       halign='right', valign='bottom', \n",
    "                       rotation_mode='default', testmode=True),\n",
    "                encoding='unicode')\n",
    "\n",
    "SVG(svghead.format(s))"
   ]
  },
  {
   "cell_type": "code",
   "execution_count": null,
   "id": "1872f224",
   "metadata": {},
   "outputs": [],
   "source": [
    "# \"anchor\" rotation mode\n",
    "s = ET.tostring(svgtext.text_tosvg('ABC', 30, 30, rotation=30,\n",
    "                       halign='left', valign='top', \n",
    "                       testmode=True),\n",
    "                encoding='unicode')\n",
    "s += ET.tostring(svgtext.text_tosvg('ABC', 90, 30, rotation=30,\n",
    "                       halign='center', valign='top', \n",
    "                       testmode=True),\n",
    "                encoding='unicode')\n",
    "s += ET.tostring(svgtext.text_tosvg('ABC', 150, 30, rotation=30,\n",
    "                       halign='right', valign='top', \n",
    "                       testmode=True),\n",
    "                encoding='unicode')\n",
    "s += ET.tostring(svgtext.text_tosvg('ABC', 30, 80, rotation=30,\n",
    "                       halign='left', valign='center', \n",
    "                       testmode=True),\n",
    "                encoding='unicode')\n",
    "s += ET.tostring(svgtext.text_tosvg('ABC', 90, 80, rotation=30,\n",
    "                       halign='center', valign='center', \n",
    "                       testmode=True),\n",
    "                encoding='unicode')\n",
    "s += ET.tostring(svgtext.text_tosvg('ABC', 150, 80, rotation=30,\n",
    "                       halign='right', valign='center', \n",
    "                       testmode=True),\n",
    "                encoding='unicode')\n",
    "s += ET.tostring(svgtext.text_tosvg('ABC', 30, 130, rotation=30,\n",
    "                       halign='left', valign='bottom', \n",
    "                       testmode=True),\n",
    "                encoding='unicode')\n",
    "s += ET.tostring(svgtext.text_tosvg('ABC', 90, 130, rotation=30,\n",
    "                       halign='center', valign='bottom', \n",
    "                       testmode=True),\n",
    "                encoding='unicode')\n",
    "s += ET.tostring(svgtext.text_tosvg('ABC', 150, 130, rotation=30,\n",
    "                       halign='right', valign='bottom', \n",
    "                       testmode=True),\n",
    "                encoding='unicode')\n",
    "\n",
    "SVG(svghead.format(s))"
   ]
  },
  {
   "cell_type": "code",
   "execution_count": null,
   "id": "bcf0abde",
   "metadata": {},
   "outputs": [],
   "source": [
    "# Test some mathtext in svg backend - text mode\n",
    "py_and_id.use('svg')\n",
    "d = py_and_id.Drawing(font='Times')\n",
    "d += elm.Resistor().label('$R_{11}$')\n",
    "d += elm.Resistor().label('$R^{22}$')\n",
    "d += elm.Resistor().label(r'$\\theta$')\n",
    "d += elm.Resistor().label('$\\overline{Q_1}$')\n",
    "d += elm.Resistor().label('$R_1$')\n",
    "d += elm.Resistor().label('$\\sqrt{x}$')\n",
    "d.here = (0, -2)\n",
    "d += elm.Resistor().label('Ω')\n",
    "d += elm.Resistor().label('∠')\n",
    "d += elm.Resistor().label('10%')\n",
    "d += elm.Resistor().label('$R^2$')\n",
    "d += elm.Resistor().label('$R_2$')\n",
    "d.draw()"
   ]
  },
  {
   "cell_type": "code",
   "execution_count": null,
   "id": "e15f4d08-b57f-4e5f-92ad-6f296ace97d2",
   "metadata": {},
   "outputs": [],
   "source": []
  },
  {
   "cell_type": "code",
   "execution_count": null,
   "id": "0bf9de8a",
   "metadata": {},
   "outputs": [],
   "source": [
    "import copy\n",
    "import pickle"
   ]
  },
  {
   "cell_type": "code",
   "execution_count": null,
   "id": "8fca1c78",
   "metadata": {},
   "outputs": [],
   "source": [
    "d = py_and_id.Drawing()\n",
    "d.add(r:=elm.Resistor())\n",
    "copy.deepcopy(d)"
   ]
  },
  {
   "cell_type": "code",
   "execution_count": null,
   "id": "b6126b83",
   "metadata": {},
   "outputs": [],
   "source": [
    "pickle.loads(pickle.dumps(d))"
   ]
  },
  {
   "cell_type": "code",
   "execution_count": null,
   "id": "84e912a0-c9f1-45df-ad7f-a0e1b704bf8a",
   "metadata": {},
   "outputs": [],
   "source": []
  }
 ],
 "metadata": {
  "kernelspec": {
   "display_name": "Python 3.10.0 64-bit",
   "language": "python",
   "name": "python3"
  },
  "language_info": {
   "codemirror_mode": {
    "name": "ipython",
    "version": 3
   },
   "file_extension": ".py",
   "mimetype": "text/x-python",
   "name": "python",
   "nbconvert_exporter": "python",
   "pygments_lexer": "ipython3",
   "version": "3.10.0"
  },
  "vscode": {
   "interpreter": {
    "hash": "3b52e12d90ae9ef43970b208346ba62d3ba6a6730b3c13bc2a4c44e71ec65f8a"
   }
  }
 },
 "nbformat": 4,
 "nbformat_minor": 5
}
